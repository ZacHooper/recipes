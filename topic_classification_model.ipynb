{
 "cells": [
  {
   "cell_type": "code",
   "execution_count": 1,
   "metadata": {},
   "outputs": [],
   "source": [
    "import typer\n",
    "import warnings\n",
    "from pathlib import Path\n",
    "import json\n",
    "\n",
    "import spacy\n",
    "from spacy.tokens import DocBin"
   ]
  },
  {
   "attachments": {},
   "cell_type": "markdown",
   "metadata": {},
   "source": [
    "Import training data"
   ]
  },
  {
   "cell_type": "code",
   "execution_count": 2,
   "metadata": {},
   "outputs": [],
   "source": [
    "with open(\"sample_data/topic_training.json\") as infile:\n",
    "    training_data = json.load(infile)"
   ]
  },
  {
   "attachments": {},
   "cell_type": "markdown",
   "metadata": {},
   "source": [
    "Convert data into spacy training format"
   ]
  },
  {
   "cell_type": "code",
   "execution_count": 3,
   "metadata": {},
   "outputs": [],
   "source": [
    "nlp = spacy.load(\"en_core_web_sm\")\n",
    "db = DocBin()\n",
    "\n",
    "for item in training_data:\n",
    "    doc = nlp.make_doc(item[\"text\"])\n",
    "    doc.cats = item[\"topic\"]\n",
    "    db.add(doc)\n",
    "\n",
    "db.to_disk(\"topic_training.spacy\")"
   ]
  },
  {
   "attachments": {},
   "cell_type": "markdown",
   "metadata": {},
   "source": [
    "Run the following commands in the terminal\n",
    "\n",
    "```bash\n",
    "python -m spacy init fill-config textcat_base_config.cfg textcat-config.cfg\n",
    "python -m spacy train textcat-config.cfg --output ./textcat_output --paths.train ./topic_training.spacy --paths.dev ./topic_training.spacy\n",
    "```"
   ]
  },
  {
   "attachments": {},
   "cell_type": "markdown",
   "metadata": {},
   "source": [
    "Test model"
   ]
  },
  {
   "cell_type": "code",
   "execution_count": 25,
   "metadata": {},
   "outputs": [],
   "source": [
    "nlp = spacy.load(\"output/model-best/\")"
   ]
  },
  {
   "cell_type": "code",
   "execution_count": 28,
   "metadata": {},
   "outputs": [],
   "source": [
    "with open(\"output.txt\", \"r\") as infile:\n",
    "    texts = infile.read().split(\"\\n\")"
   ]
  },
  {
   "cell_type": "code",
   "execution_count": 30,
   "metadata": {},
   "outputs": [],
   "source": [
    "cats = []\n",
    "for text in texts:\n",
    "    doc = nlp(text)\n",
    "    potential_cats = doc.cats\n",
    "    # get max value\n",
    "    max_value = max(potential_cats.values())\n",
    "    # get key of max value\n",
    "    max_key = [k for k, v in potential_cats.items() if v == max_value]\n",
    "    cats.append({\"text\": text, \"topic\": max_key, \"scores\": potential_cats})   "
   ]
  },
  {
   "cell_type": "code",
   "execution_count": 31,
   "metadata": {},
   "outputs": [
    {
     "data": {
      "text/plain": [
       "[{'text': 'SERVES 4',\n",
       "  'topic': ['other'],\n",
       "  'scores': {'title': 0.011118074879050255,\n",
       "   'blurb': 0.011039288714528084,\n",
       "   'ingredient': 0.017033729702234268,\n",
       "   'method': 0.011209753341972828,\n",
       "   'other': 0.9495991468429565}},\n",
       " {'text': '520 g (1 Ib 2 02) tin of sweetcorn, drained',\n",
       "  'topic': ['ingredient'],\n",
       "  'scores': {'title': 0.0005198395228944719,\n",
       "   'blurb': 0.0007484618690796196,\n",
       "   'ingredient': 0.9969903230667114,\n",
       "   'method': 0.001095274114049971,\n",
       "   'other': 0.0006461279117502272}},\n",
       " {'text': '3 tbsp vegetable oil',\n",
       "  'topic': ['ingredient'],\n",
       "  'scores': {'title': 0.005252712871879339,\n",
       "   'blurb': 0.005238130688667297,\n",
       "   'ingredient': 0.9756233096122742,\n",
       "   'method': 0.007316912990063429,\n",
       "   'other': 0.006569028832018375}},\n",
       " {'text': 'pinch of asafoetida',\n",
       "  'topic': ['ingredient'],\n",
       "  'scores': {'title': 0.006961580831557512,\n",
       "   'blurb': 0.006963755935430527,\n",
       "   'ingredient': 0.9679685235023499,\n",
       "   'method': 0.009352678433060646,\n",
       "   'other': 0.008753418922424316}},\n",
       " {'text': '1 heaped tsp black mustard seeds',\n",
       "  'topic': ['ingredient'],\n",
       "  'scores': {'title': 0.0029282206669449806,\n",
       "   'blurb': 0.0028303698636591434,\n",
       "   'ingredient': 0.9861317873001099,\n",
       "   'method': 0.0044527817517519,\n",
       "   'other': 0.0036568110808730125}},\n",
       " {'text': '1 tsp ground turmeric',\n",
       "  'topic': ['ingredient'],\n",
       "  'scores': {'title': 0.005237992387264967,\n",
       "   'blurb': 0.0063008712604641914,\n",
       "   'ingredient': 0.9758087396621704,\n",
       "   'method': 0.00610561016947031,\n",
       "   'other': 0.006546763237565756}},\n",
       " {'text': 'salt, to taste',\n",
       "  'topic': ['ingredient'],\n",
       "  'scores': {'title': 0.005094707012176514,\n",
       "   'blurb': 0.007289633620530367,\n",
       "   'ingredient': 0.973427951335907,\n",
       "   'method': 0.007798433769494295,\n",
       "   'other': 0.00638923142105341}},\n",
       " {'text': '1 tbsp finely chopped coriander (cilantro)',\n",
       "  'topic': ['ingredient'],\n",
       "  'scores': {'title': 0.001899420516565442,\n",
       "   'blurb': 0.0018044287571683526,\n",
       "   'ingredient': 0.9912251830101013,\n",
       "   'method': 0.002688161563128233,\n",
       "   'other': 0.0023828025441616774}},\n",
       " {'text': '1 tbsp roasted peanuts, crushed',\n",
       "  'topic': ['ingredient'],\n",
       "  'scores': {'title': 0.0024789294693619013,\n",
       "   'blurb': 0.0029513617046177387,\n",
       "   'ingredient': 0.9876067042350769,\n",
       "   'method': 0.0038699728902429342,\n",
       "   'other': 0.003093036124482751}},\n",
       " {'text': 'juice of % lime',\n",
       "  'topic': ['ingredient'],\n",
       "  'scores': {'title': 0.004941917490214109,\n",
       "   'blurb': 0.004951244220137596,\n",
       "   'ingredient': 0.9772268533706665,\n",
       "   'method': 0.00670123053714633,\n",
       "   'other': 0.006178758107125759}},\n",
       " {'text': 'For the chilli and ginger paste',\n",
       "  'topic': ['method'],\n",
       "  'scores': {'title': 0.09593722969293594,\n",
       "   'blurb': 0.14709745347499847,\n",
       "   'ingredient': 0.2606653869152069,\n",
       "   'method': 0.35091421008110046,\n",
       "   'other': 0.1453857123851776}},\n",
       " {'text': \"1 green bird's-eye chilli\",\n",
       "  'topic': ['ingredient'],\n",
       "  'scores': {'title': 0.003100132569670677,\n",
       "   'blurb': 0.00546893198043108,\n",
       "   'ingredient': 0.9832894206047058,\n",
       "   'method': 0.004259352572262287,\n",
       "   'other': 0.003882198128849268}},\n",
       " {'text': '3 garlic cloves, roughly chopped',\n",
       "  'topic': ['ingredient'],\n",
       "  'scores': {'title': 0.0027601532638072968,\n",
       "   'blurb': 0.0032874399330466986,\n",
       "   'ingredient': 0.9866125583648682,\n",
       "   'method': 0.0038851008284837008,\n",
       "   'other': 0.003454803256317973}},\n",
       " {'text': '5 cm (2 in) ginger root, roughly chopped',\n",
       "  'topic': ['ingredient'],\n",
       "  'scores': {'title': 0.0013385957572609186,\n",
       "   'blurb': 0.0018238769844174385,\n",
       "   'ingredient': 0.992169201374054,\n",
       "   'method': 0.002968923654407263,\n",
       "   'other': 0.0016994064208120108}},\n",
       " {'text': 'GUJARATI VAGHARA MAKKAI Spicy Sweetcorn with Ginger & Green Chilli',\n",
       "  'topic': ['title'],\n",
       "  'scores': {'title': 0.9882276654243469,\n",
       "   'blurb': 0.0027972329407930374,\n",
       "   'ingredient': 0.0030904829036444426,\n",
       "   'method': 0.0029072186443954706,\n",
       "   'other': 0.002977424766868353}},\n",
       " {'text': 'Stir-fried sweetcorn with ginger, green chilli and turmeric. Simple quick and delicious, this stir-fry is a must to accompany every thali. I’ve used tinned sweetcorn for this recipe, which is readily available.',\n",
       "  'topic': ['blurb'],\n",
       "  'scores': {'title': 0.00015898731362540275,\n",
       "   'blurb': 0.9954336285591125,\n",
       "   'ingredient': 0.002554215956479311,\n",
       "   'method': 0.0017464348347857594,\n",
       "   'other': 0.00010666922753443941}},\n",
       " {'text': 'First make the chilli and ginger paste by placing all the ingredients into a blender, along with 3 tablespoons of the sweetcorn, and blitz to a coarse paste. Set aside.',\n",
       "  'topic': ['method'],\n",
       "  'scores': {'title': 0.0003805719898082316,\n",
       "   'blurb': 0.0010880542686209083,\n",
       "   'ingredient': 0.0029271473176777363,\n",
       "   'method': 0.9953268766403198,\n",
       "   'other': 0.00027732070884667337}},\n",
       " {'text': 'Heat the oil in a large frying pan (skillet) over a medium heat.  Add the asafoetida and mustard seeds, and fry for a few seconds until they sputter.',\n",
       "  'topic': ['method'],\n",
       "  'scores': {'title': 0.00036310861469246447,\n",
       "   'blurb': 0.0009513128316029906,\n",
       "   'ingredient': 0.0027042459696531296,\n",
       "   'method': 0.9955583810806274,\n",
       "   'other': 0.00042293535079807043}},\n",
       " {'text': 'Add the prepared chilli and ginger paste and fry for 1 minute, stirring well. Add the turmeric and stir, then add the remaining sweetcorn and fry for 2 minutes. Reduce the heat to low, season, and add the fresh coriander and crushed peanuts.  Cover and cook for 1 more minute. Finish with the lime juice and serve warm. ',\n",
       "  'topic': ['method'],\n",
       "  'scores': {'title': 8.137068107316736e-06,\n",
       "   'blurb': 0.00039561488665640354,\n",
       "   'ingredient': 0.0014544264413416386,\n",
       "   'method': 0.9981375932693481,\n",
       "   'other': 4.160628122917842e-06}},\n",
       " {'text': '',\n",
       "  'topic': ['title', 'blurb', 'ingredient', 'method', 'other'],\n",
       "  'scores': {'title': 0.0,\n",
       "   'blurb': 0.0,\n",
       "   'ingredient': 0.0,\n",
       "   'method': 0.0,\n",
       "   'other': 0.0}}]"
      ]
     },
     "execution_count": 31,
     "metadata": {},
     "output_type": "execute_result"
    }
   ],
   "source": [
    "cats"
   ]
  },
  {
   "cell_type": "code",
   "execution_count": 29,
   "metadata": {},
   "outputs": [
    {
     "data": {
      "text/plain": [
       "{'title': 0.11102817952632904,\n",
       " 'blurb': 0.11597983539104462,\n",
       " 'ingredient': 0.12232184410095215,\n",
       " 'method': 0.560245156288147,\n",
       " 'other': 0.09042499214410782}"
      ]
     },
     "execution_count": 29,
     "metadata": {},
     "output_type": "execute_result"
    }
   ],
   "source": [
    "nlp(\"Serve the chowder in bowls, with the halved eggs on top and more corainder scattered over.\").cats"
   ]
  },
  {
   "cell_type": "code",
   "execution_count": null,
   "metadata": {},
   "outputs": [],
   "source": []
  }
 ],
 "metadata": {
  "kernelspec": {
   "display_name": "venv",
   "language": "python",
   "name": "python3"
  },
  "language_info": {
   "codemirror_mode": {
    "name": "ipython",
    "version": 3
   },
   "file_extension": ".py",
   "mimetype": "text/x-python",
   "name": "python",
   "nbconvert_exporter": "python",
   "pygments_lexer": "ipython3",
   "version": "3.10.9"
  },
  "orig_nbformat": 4,
  "vscode": {
   "interpreter": {
    "hash": "d06ce0994164abe0e4f449a7a37e1fe3cf8e81cf9a48023a4f3aa0ae9aed9b6c"
   }
  }
 },
 "nbformat": 4,
 "nbformat_minor": 2
}
