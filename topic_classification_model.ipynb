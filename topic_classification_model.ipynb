{
 "cells": [
  {
   "cell_type": "code",
   "execution_count": 5,
   "metadata": {},
   "outputs": [],
   "source": [
    "import typer\n",
    "import warnings\n",
    "from pathlib import Path\n",
    "import json\n",
    "\n",
    "import spacy\n",
    "from spacy.tokens import DocBin"
   ]
  },
  {
   "attachments": {},
   "cell_type": "markdown",
   "metadata": {},
   "source": [
    "Import training data"
   ]
  },
  {
   "cell_type": "code",
   "execution_count": 9,
   "metadata": {},
   "outputs": [],
   "source": [
    "with open(\"sample_data/topic_training.json\") as infile:\n",
    "    training_data = json.load(infile)"
   ]
  },
  {
   "attachments": {},
   "cell_type": "markdown",
   "metadata": {},
   "source": [
    "Convert data into spacy training format"
   ]
  },
  {
   "cell_type": "code",
   "execution_count": 10,
   "metadata": {},
   "outputs": [],
   "source": [
    "nlp = spacy.load(\"en_core_web_sm\")\n",
    "db = DocBin()\n",
    "\n",
    "for item in training_data:\n",
    "    doc = nlp.make_doc(item[\"text\"])\n",
    "    doc.cats = item[\"topic\"]\n",
    "    db.add(doc)\n",
    "\n",
    "db.to_disk(\"topic_training.spacy\")"
   ]
  },
  {
   "attachments": {},
   "cell_type": "markdown",
   "metadata": {},
   "source": [
    "Run the following commands in the terminal\n",
    "\n",
    "```bash\n",
    "python -m spacy init fill-config base_config.cfg config.cfg\n",
    "python -m spacy train config.cfg --output ./output --paths.train ./train.spacy --paths.dev ./dev.spacy\n",
    "```"
   ]
  },
  {
   "attachments": {},
   "cell_type": "markdown",
   "metadata": {},
   "source": [
    "Test model"
   ]
  },
  {
   "cell_type": "code",
   "execution_count": 11,
   "metadata": {},
   "outputs": [],
   "source": [
    "nlp = spacy.load(\"output/model-best/\")"
   ]
  },
  {
   "cell_type": "code",
   "execution_count": 22,
   "metadata": {},
   "outputs": [
    {
     "data": {
      "text/plain": [
       "{'title': 0.11102817952632904,\n",
       " 'blurb': 0.11597983539104462,\n",
       " 'ingredient': 0.12232184410095215,\n",
       " 'method': 0.560245156288147,\n",
       " 'other': 0.09042499214410782}"
      ]
     },
     "execution_count": 22,
     "metadata": {},
     "output_type": "execute_result"
    }
   ],
   "source": [
    "nlp(\"Serve the chowder in bowls, with the halved eggs on top and more corainder scattered over.\").cats"
   ]
  },
  {
   "cell_type": "code",
   "execution_count": null,
   "metadata": {},
   "outputs": [],
   "source": []
  }
 ],
 "metadata": {
  "kernelspec": {
   "display_name": "Python 3",
   "language": "python",
   "name": "python3"
  },
  "language_info": {
   "codemirror_mode": {
    "name": "ipython",
    "version": 3
   },
   "file_extension": ".py",
   "mimetype": "text/x-python",
   "name": "python",
   "nbconvert_exporter": "python",
   "pygments_lexer": "ipython3",
   "version": "3.10.6"
  },
  "orig_nbformat": 4,
  "vscode": {
   "interpreter": {
    "hash": "f2cc5a833e7fab22ef484b6e8eabe6cbae6031282a360d3203fe211a727ee232"
   }
  }
 },
 "nbformat": 4,
 "nbformat_minor": 2
}
