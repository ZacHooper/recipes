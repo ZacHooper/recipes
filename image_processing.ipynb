{
 "cells": [
  {
   "cell_type": "code",
   "execution_count": 1,
   "metadata": {},
   "outputs": [],
   "source": [
    "from pytesseract import pytesseract\n",
    "import spacy\n",
    "import cv2\n",
    "import numpy as np\n",
    "from spacy.language import Language"
   ]
  },
  {
   "cell_type": "markdown",
   "metadata": {},
   "source": [
    "Initialise Tesseract"
   ]
  },
  {
   "cell_type": "code",
   "execution_count": 2,
   "metadata": {},
   "outputs": [],
   "source": [
    "path_to_tesseract = r\"/opt/homebrew/opt/tesseract/bin/tesseract\"\n",
    "pytesseract.tesseract_cmd = path_to_tesseract"
   ]
  },
  {
   "cell_type": "markdown",
   "metadata": {},
   "source": [
    "Import Image"
   ]
  },
  {
   "cell_type": "code",
   "execution_count": 13,
   "metadata": {},
   "outputs": [],
   "source": [
    "image_path = r\"sample_data/Thali_sweetcorn.png\"\n",
    "# image_path = r\"sample_data/Tahini-test_kitchen.png\"\n",
    "img = cv2.imread(image_path)"
   ]
  },
  {
   "cell_type": "markdown",
   "metadata": {},
   "source": [
    "Image Processing"
   ]
  },
  {
   "cell_type": "code",
   "execution_count": 14,
   "metadata": {},
   "outputs": [],
   "source": [
    "# --- dilation on the green channel ---\n",
    "dilated_img = cv2.dilate(img[:, :, 1], np.ones((7, 7), np.uint8))\n",
    "bg_img = cv2.medianBlur(dilated_img, 21)\n",
    "\n",
    "# --- finding absolute difference to preserve edges ---\n",
    "diff_img = 255 - cv2.absdiff(img[:, :, 1], bg_img)\n",
    "\n",
    "# --- normalizing between 0 to 255 ---\n",
    "norm_img = cv2.normalize(\n",
    "    diff_img, None, alpha=0, beta=255, norm_type=cv2.NORM_MINMAX, dtype=cv2.CV_8UC1\n",
    ")\n",
    "\n",
    "# --- Otsu threshold ---\n",
    "th = cv2.threshold(norm_img, 0, 255, cv2.THRESH_BINARY | cv2.THRESH_OTSU)[1]"
   ]
  },
  {
   "cell_type": "markdown",
   "metadata": {},
   "source": [
    "Extract Text"
   ]
  },
  {
   "cell_type": "code",
   "execution_count": 15,
   "metadata": {},
   "outputs": [],
   "source": [
    "text = pytesseract.image_to_string(th)"
   ]
  },
  {
   "cell_type": "markdown",
   "metadata": {},
   "source": [
    "Initialise NLP Model"
   ]
  },
  {
   "cell_type": "code",
   "execution_count": 16,
   "metadata": {},
   "outputs": [],
   "source": [
    "nlp = spacy.load(\"en_core_web_sm\")"
   ]
  },
  {
   "cell_type": "markdown",
   "metadata": {},
   "source": [
    "Add Sentensizer to recognise line breaks as a sentence"
   ]
  },
  {
   "cell_type": "code",
   "execution_count": 17,
   "metadata": {},
   "outputs": [],
   "source": [
    "@Language.component(\"set_custom_boundaries\")\n",
    "def set_custom_boundaries(doc):\n",
    "    for token in doc[:-1]:\n",
    "        if token.text == \"\\n\\n\":\n",
    "            doc[token.i].is_sent_start = True\n",
    "    return doc"
   ]
  },
  {
   "cell_type": "code",
   "execution_count": 18,
   "metadata": {},
   "outputs": [
    {
     "data": {
      "text/plain": [
       "<function __main__.set_custom_boundaries(doc)>"
      ]
     },
     "execution_count": 18,
     "metadata": {},
     "output_type": "execute_result"
    }
   ],
   "source": [
    "nlp.add_pipe(\"set_custom_boundaries\", before=\"parser\")"
   ]
  },
  {
   "cell_type": "markdown",
   "metadata": {},
   "source": [
    "Process Text with Spacy"
   ]
  },
  {
   "cell_type": "code",
   "execution_count": 19,
   "metadata": {},
   "outputs": [],
   "source": [
    "doc = nlp(text)"
   ]
  },
  {
   "cell_type": "code",
   "execution_count": 20,
   "metadata": {},
   "outputs": [
    {
     "data": {
      "text/plain": [
       "[[SERVES 4],\n",
       " [520 g (1 Ib 2 02) tin of\n",
       "  sweetcorn, drained],\n",
       " [3 tbsp vegetable oil],\n",
       " [pinch of asafoetida],\n",
       " [1 heaped tsp black\n",
       "  mustard seeds],\n",
       " [1 tsp ground turmeric],\n",
       " [salt, to taste],\n",
       " [1 tbsp finely chopped\n",
       "  coriander (cilantro)],\n",
       " [1 tbsp roasted peanuts,\n",
       "  crushed],\n",
       " [juice of % lime],\n",
       " [For the chilli and ginger paste],\n",
       " [1 green bird's-eye chilli],\n",
       " [3 garlic cloves, roughly\n",
       "  chopped],\n",
       " [5 cm (2 in) ginger root,\n",
       "  roughly chopped],\n",
       " [GUJARATI VAGHARA MAKKAI\n",
       "  Spicy Sweetcorn with\n",
       "  Ginger & Green Chilli],\n",
       " [Stir-fried sweetcorn with ginger, green chilli and\n",
       "  turmeric.,\n",
       "  Simple quick and delicious, this stir-fry is\n",
       "  a must to accompany every thali.,\n",
       "  I’ve used tinned\n",
       "  sweetcorn for this recipe, which is readily available.],\n",
       " [First make the chilli and ginger paste by placing all the\n",
       "  ingredients into a blender, along with 3 tablespoons of the\n",
       "  sweetcorn, and blitz to a coarse paste.,\n",
       "  Set aside.],\n",
       " [Heat the oil in a large frying pan (skillet) over a medium heat.,\n",
       "  Add the asafoetida and mustard seeds, and fry for a few\n",
       "  seconds until they sputter.],\n",
       " [Add the prepared chilli and ginger paste and fry for 1 minute,\n",
       "  stirring well.,\n",
       "  Add the turmeric and stir, then add the remaining\n",
       "  sweetcorn and fry for 2 minutes.,\n",
       "  Reduce the heat to low,\n",
       "  season, and add the fresh coriander and crushed peanuts.,\n",
       "  Cover and cook for 1 more minute.,\n",
       "  Finish with the lime juice\n",
       "  and serve warm.]]"
      ]
     },
     "execution_count": 20,
     "metadata": {},
     "output_type": "execute_result"
    }
   ],
   "source": [
    "# Find paragraphs by splitting on \"whitespace\" sentences\n",
    "paragraphs = []\n",
    "paragraph = []\n",
    "for sent in doc.sents:\n",
    "    if len(sent) <= 1:\n",
    "        paragraphs.append(paragraph)\n",
    "        paragraph = []\n",
    "        continue\n",
    "    paragraph.append(sent)\n",
    "paragraphs.append(paragraph)\n",
    "paragraphs"
   ]
  },
  {
   "cell_type": "markdown",
   "metadata": {},
   "source": [
    "Extract Amount of Serves"
   ]
  },
  {
   "cell_type": "code",
   "execution_count": 21,
   "metadata": {},
   "outputs": [
    {
     "data": {
      "text/plain": [
       "4"
      ]
     },
     "execution_count": 21,
     "metadata": {},
     "output_type": "execute_result"
    }
   ],
   "source": [
    "def get_serving_sentences(paragraphs: list) -> str:\n",
    "    for paragraph in paragraphs:\n",
    "        if len(paragraph) > 1:\n",
    "            continue\n",
    "        if \"SERVES\" in paragraph[0].text:\n",
    "            return paragraph[0]\n",
    "    \n",
    "\n",
    "def get_serving_amount(serving_sentence) -> str:\n",
    "    for token in serving_sentence:\n",
    "        if token.pos_ == \"NUM\":\n",
    "            return token\n",
    "\n",
    "\n",
    "serving_sentence = get_serving_sentences(paragraphs)\n",
    "serving_amount = get_serving_amount(serving_sentence)\n",
    "serving_amount"
   ]
  },
  {
   "cell_type": "markdown",
   "metadata": {},
   "source": [
    "Extract ingredients"
   ]
  },
  {
   "cell_type": "code",
   "execution_count": 22,
   "metadata": {},
   "outputs": [
    {
     "name": "stdout",
     "output_type": "stream",
     "text": [
      "[[520 g (1 Ib 2 02) tin of\n",
      "sweetcorn, drained], [3 tbsp vegetable oil], [pinch of asafoetida], [1 heaped tsp black\n",
      "mustard seeds], [1 tsp ground turmeric], [salt, to taste], [1 tbsp finely chopped\n",
      "coriander (cilantro)], [1 tbsp roasted peanuts,\n",
      "crushed], [juice of % lime], [1 green bird's-eye chilli], [3 garlic cloves, roughly\n",
      "chopped], [5 cm (2 in) ginger root,\n",
      "roughly chopped]]\n"
     ]
    }
   ],
   "source": [
    "def is_ingredient_sent(paragraph: list) -> bool:\n",
    "    # Ingredients only have one Span in the paragraph\n",
    "    if len(paragraph) > 1:\n",
    "        return False\n",
    "\n",
    "    ingredient_span = paragraph[0]\n",
    "    \n",
    "    # Only Ingredient's begin with a number\n",
    "    if list(ingredient_span)[0].pos_ == \"NUM\":\n",
    "        return True\n",
    "\n",
    "    # Ingredients often follow the format of: [AMOUNT] of [optional adjetive] [INGREDIENT] eg pinch of salt, ROOT prep ... pobj\n",
    "    serving_sentence_list = list(ingredient_span)\n",
    "    if (\n",
    "        serving_sentence_list[0].dep_ == \"ROOT\"\n",
    "        and serving_sentence_list[1].dep_ == \"prep\"\n",
    "        and serving_sentence_list[-1].dep_ == \"pobj\"\n",
    "    ):\n",
    "        return True\n",
    "\n",
    "    # Ingredient sometimes listed with some extra steps but no additional nouns. Eg \"salt, to taste\"\n",
    "    check_if_noun = lambda token: token.pos_ == \"NOUN\"\n",
    "    if serving_sentence_list[0].pos_ == \"NOUN\" and not any([check_if_noun(token) for token in serving_sentence_list[1:]]):\n",
    "        return True\n",
    "\n",
    "    return False\n",
    "        \n",
    "ingredients_indexes = [idx for idx, p in enumerate(paragraphs) if is_ingredient_sent(p)]\n",
    "ingredients = [paragraphs[idx] for idx in ingredients_indexes]\n",
    "print(ingredients)\n",
    "no_ingred_paragraphs = [p for idx, p in enumerate(paragraphs) if idx not in ingredients_indexes]"
   ]
  },
  {
   "cell_type": "code",
   "execution_count": 37,
   "metadata": {},
   "outputs": [
    {
     "data": {
      "text/plain": [
       "[[SERVES 4],\n",
       " [For the chilli and ginger paste],\n",
       " [GUJARATI VAGHARA MAKKAI\n",
       "  Spicy Sweetcorn with\n",
       "  Ginger & Green Chilli],\n",
       " [Stir-fried sweetcorn with ginger, green chilli and\n",
       "  turmeric.,\n",
       "  Simple quick and delicious, this stir-fry is\n",
       "  a must to accompany every thali.,\n",
       "  I’ve used tinned\n",
       "  sweetcorn for this recipe, which is readily available.],\n",
       " [First make the chilli and ginger paste by placing all the\n",
       "  ingredients into a blender, along with 3 tablespoons of the\n",
       "  sweetcorn, and blitz to a coarse paste.,\n",
       "  Set aside.],\n",
       " [Heat the oil in a large frying pan (skillet) over a medium heat.,\n",
       "  Add the asafoetida and mustard seeds, and fry for a few\n",
       "  seconds until they sputter.],\n",
       " [Add the prepared chilli and ginger paste and fry for 1 minute,\n",
       "  stirring well.,\n",
       "  Add the turmeric and stir, then add the remaining\n",
       "  sweetcorn and fry for 2 minutes.,\n",
       "  Reduce the heat to low,\n",
       "  season, and add the fresh coriander and crushed peanuts.,\n",
       "  Cover and cook for 1 more minute.,\n",
       "  Finish with the lime juice\n",
       "  and serve warm.]]"
      ]
     },
     "execution_count": 37,
     "metadata": {},
     "output_type": "execute_result"
    }
   ],
   "source": [
    "no_ingred_paragraphs\n"
   ]
  },
  {
   "cell_type": "code",
   "execution_count": null,
   "metadata": {},
   "outputs": [],
   "source": []
  },
  {
   "cell_type": "code",
   "execution_count": null,
   "metadata": {},
   "outputs": [],
   "source": []
  }
 ],
 "metadata": {
  "kernelspec": {
   "display_name": "Python 3.10.6 ('venv': venv)",
   "language": "python",
   "name": "python3"
  },
  "language_info": {
   "codemirror_mode": {
    "name": "ipython",
    "version": 3
   },
   "file_extension": ".py",
   "mimetype": "text/x-python",
   "name": "python",
   "nbconvert_exporter": "python",
   "pygments_lexer": "ipython3",
   "version": "3.10.6"
  },
  "orig_nbformat": 4,
  "vscode": {
   "interpreter": {
    "hash": "f2cc5a833e7fab22ef484b6e8eabe6cbae6031282a360d3203fe211a727ee232"
   }
  }
 },
 "nbformat": 4,
 "nbformat_minor": 2
}
