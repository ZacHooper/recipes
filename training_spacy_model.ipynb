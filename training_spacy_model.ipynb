{
 "cells": [
  {
   "cell_type": "code",
   "execution_count": 7,
   "metadata": {},
   "outputs": [],
   "source": [
    "import json\n",
    "from tqdm import tqdm\n",
    "import pandas as pd\n",
    "import os\n",
    "import spacy\n",
    "from spacy.tokens import DocBin"
   ]
  },
  {
   "cell_type": "code",
   "execution_count": 12,
   "metadata": {},
   "outputs": [
    {
     "data": {
      "text/plain": [
       "{'classes': ['INGRED', 'AMOUNT', 'UNIT', 'PREP'],\n",
       " 'annotations': [['520 g (1 Ib 2 02) tin of sweetcorn, drained, ',\n",
       "   {'entities': [[0, 3, 'AMOUNT'],\n",
       "     [4, 5, 'UNIT'],\n",
       "     [7, 8, 'AMOUNT'],\n",
       "     [9, 11, 'UNIT'],\n",
       "     [18, 34, 'INGRED'],\n",
       "     [36, 43, 'PREP']]}],\n",
       "  ['3 tbsp vegetable oil, ',\n",
       "   {'entities': [[0, 1, 'AMOUNT'], [2, 6, 'UNIT'], [7, 21, 'INGRED']]}],\n",
       "  ['pinch of asafoetida, ', {'entities': [[0, 5, 'PREP'], [9, 19, 'INGRED']]}],\n",
       "  ['1 heaped tsp black mustard seeds, ',\n",
       "   {'entities': [[0, 1, 'AMOUNT'], [2, 12, 'UNIT'], [13, 32, 'INGRED']]}],\n",
       "  ['1 tsp ground turmeric, ',\n",
       "   {'entities': [[0, 1, 'AMOUNT'], [2, 5, 'UNIT'], [6, 21, 'INGRED']]}],\n",
       "  ['salt, to taste, ', {'entities': [[0, 4, 'INGRED'], [6, 14, 'PREP']]}],\n",
       "  ['1 tbsp finely chopped coriander (cilantro), ',\n",
       "   {'entities': [[0, 1, 'AMOUNT'],\n",
       "     [2, 6, 'UNIT'],\n",
       "     [7, 21, 'PREP'],\n",
       "     [22, 31, 'INGRED'],\n",
       "     [33, 41, 'INGRED']]}],\n",
       "  ['1 tbsp roasted peanuts, crushed, ',\n",
       "   {'entities': [[0, 1, 'AMOUNT'],\n",
       "     [2, 6, 'UNIT'],\n",
       "     [7, 22, 'INGRED'],\n",
       "     [24, 31, 'PREP']]}],\n",
       "  ['3 garlic cloves, roughly chopped, ',\n",
       "   {'entities': [[0, 1, 'AMOUNT'], [2, 15, 'INGRED'], [17, 32, 'PREP']]}],\n",
       "  ['5 cm (2 in) ginger root, roughly chopped',\n",
       "   {'entities': [[0, 1, 'AMOUNT'],\n",
       "     [2, 4, 'UNIT'],\n",
       "     [6, 7, 'AMOUNT'],\n",
       "     [8, 10, 'UNIT'],\n",
       "     [12, 23, 'INGRED'],\n",
       "     [25, 40, 'PREP']]}]]}"
      ]
     },
     "execution_count": 12,
     "metadata": {},
     "output_type": "execute_result"
    }
   ],
   "source": [
    "with open(\"sample_data/annotations.json\") as infile:\n",
    "    training_data = json.load(infile)\n",
    "\n",
    "training_data"
   ]
  },
  {
   "attachments": {},
   "cell_type": "markdown",
   "metadata": {},
   "source": [
    "Load existing model and create a new doc bin"
   ]
  },
  {
   "cell_type": "code",
   "execution_count": 10,
   "metadata": {},
   "outputs": [],
   "source": [
    "nlp = spacy.load(\"en_core_web_sm\")\n",
    "db = DocBin()"
   ]
  },
  {
   "attachments": {},
   "cell_type": "markdown",
   "metadata": {},
   "source": [
    "Fill the docbin with the training data of labelled entities"
   ]
  },
  {
   "cell_type": "code",
   "execution_count": 17,
   "metadata": {},
   "outputs": [
    {
     "name": "stderr",
     "output_type": "stream",
     "text": [
      "100%|██████████| 10/10 [00:00<00:00, 2175.36it/s]\n"
     ]
    }
   ],
   "source": [
    "# fill doc bin\n",
    "for entry in tqdm(training_data[\"annotations\"]):\n",
    "    doc = nlp.make_doc(entry[0])\n",
    "    ents = []\n",
    "    for entity in entry[1][\"entities\"]:\n",
    "        start = entity[0]\n",
    "        end = entity[1]\n",
    "        label = entity[2]\n",
    "        span = doc.char_span(start, end, label=label, alignment_mode=\"contract\")\n",
    "        if span is None:\n",
    "            print(\"Skipping entity\")\n",
    "        else:\n",
    "            ents.append(span)\n",
    "    doc.ents = ents\n",
    "    db.add(doc)"
   ]
  },
  {
   "attachments": {},
   "cell_type": "markdown",
   "metadata": {},
   "source": [
    "Save training data"
   ]
  },
  {
   "cell_type": "code",
   "execution_count": 18,
   "metadata": {},
   "outputs": [],
   "source": [
    "db.to_disk(\"sample_data/annotations.spacy\")"
   ]
  },
  {
   "cell_type": "code",
   "execution_count": 19,
   "metadata": {},
   "outputs": [],
   "source": [
    "# load trained model\n",
    "nlp = spacy.load(\"output/model-best\")"
   ]
  },
  {
   "cell_type": "code",
   "execution_count": 48,
   "metadata": {},
   "outputs": [],
   "source": [
    "doc = nlp(\"400ml vegetable stock\")"
   ]
  },
  {
   "cell_type": "code",
   "execution_count": 49,
   "metadata": {},
   "outputs": [
    {
     "data": {
      "text/plain": [
       "[('400ml', 'INGRED'), ('vegetable', 'INGRED'), ('stock', 'INGRED')]"
      ]
     },
     "execution_count": 49,
     "metadata": {},
     "output_type": "execute_result"
    }
   ],
   "source": [
    "[(token.text, token.ent_type_) for token in doc]"
   ]
  },
  {
   "cell_type": "code",
   "execution_count": null,
   "metadata": {},
   "outputs": [],
   "source": []
  }
 ],
 "metadata": {
  "kernelspec": {
   "display_name": "venv",
   "language": "python",
   "name": "python3"
  },
  "language_info": {
   "codemirror_mode": {
    "name": "ipython",
    "version": 3
   },
   "file_extension": ".py",
   "mimetype": "text/x-python",
   "name": "python",
   "nbconvert_exporter": "python",
   "pygments_lexer": "ipython3",
   "version": "3.10.9 (main, Dec 15 2022, 10:44:50) [Clang 14.0.0 (clang-1400.0.29.202)]"
  },
  "orig_nbformat": 4,
  "vscode": {
   "interpreter": {
    "hash": "d06ce0994164abe0e4f449a7a37e1fe3cf8e81cf9a48023a4f3aa0ae9aed9b6c"
   }
  }
 },
 "nbformat": 4,
 "nbformat_minor": 2
}
